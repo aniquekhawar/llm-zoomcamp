{
 "cells": [
  {
   "cell_type": "markdown",
   "id": "a66db070-0808-41b9-b21a-8a892d4e66fe",
   "metadata": {},
   "source": [
    "# Import Libraries"
   ]
  },
  {
   "cell_type": "code",
   "execution_count": 4,
   "id": "fd78af4a-764e-4513-8c1b-75053cd51dc6",
   "metadata": {},
   "outputs": [],
   "source": [
    "import os\n",
    "\n",
    "import openai\n",
    "from openai import OpenAI"
   ]
  },
  {
   "cell_type": "markdown",
   "id": "2c5341c9-4ae5-4660-ba31-e4fc75e5da14",
   "metadata": {},
   "source": [
    "# Settings\n",
    "- Instantiate OpenAI client\n",
    "- Note: Typically this looks for the environment variable OPENAI_API_KEY. Try using the `export OPENAI_API_KEY='key'` command."
   ]
  },
  {
   "cell_type": "code",
   "execution_count": 2,
   "id": "b2ef0374-ca72-4172-89a8-24ea27366fa9",
   "metadata": {},
   "outputs": [],
   "source": [
    "client = OpenAI()"
   ]
  },
  {
   "cell_type": "code",
   "execution_count": 5,
   "id": "f2b1d2b0-ad4d-41c6-886d-e23ea392cf6c",
   "metadata": {},
   "outputs": [],
   "source": [
    "response = client.chat.completions.create(\n",
    "    model = 'o4-mini',\n",
    "    messages = [\n",
    "        {'role': 'user', 'content': 'is it too late to join the course'}\n",
    "    ]\n",
    ")"
   ]
  },
  {
   "cell_type": "code",
   "execution_count": 11,
   "id": "a9304254-d29e-49b3-af98-091d2317cc26",
   "metadata": {},
   "outputs": [
    {
     "name": "stdout",
     "output_type": "stream",
     "text": [
      "It really depends on which course you have in mind and where you’re trying to enroll. Different schools and programs set their own add/drop deadlines, enrollment caps, and late-registration policies. Here’s how you can find out quickly:\n",
      "\n",
      "1. Identify the course and institution  \n",
      "  • Which course code or title? (e.g. “BIO-101” or “Intro to Digital Marketing”)  \n",
      "  • Which university, college or online platform is offering it?\n",
      "\n",
      "2. Check the academic calendar or enrollment system  \n",
      "  • Most schools publish an official “last day to add” or “late-registration” deadline.  \n",
      "  • If you’re on an online platform (Coursera, Udemy, edX, etc.), see the “enroll by” date in the course description.\n",
      "\n",
      "3. Contact the right people  \n",
      "  a) Registrar’s or Records Office:  \n",
      "     – Can tell you if the online portal is still open for registration or late adds.  \n",
      "  b) Course instructor or department administrator:  \n",
      "     – May grant a permission number or override if the deadline has passed.  \n",
      "     – Can advise how to catch up on missed lectures/assignments.  \n",
      "  c) Academic advisor/student services:  \n",
      "     – Will explain any ramifications for your transcript, financial aid, or program plan.\n",
      "\n",
      "4. Be prepared to catch up  \n",
      "  • If you’re allowed in after the start date, ask for  \n",
      "    – Lecture recordings or slides you’ve missed  \n",
      "    – Past assignments and deadlines  \n",
      "    – Any quizzes/tests already completed  \n",
      "  • You may need to negotiate an extended deadline or do makeup work.\n",
      "\n",
      "5. Consider alternatives  \n",
      "  • If you’ve missed the official window and overrides aren’t possible, look at the next semester or term.  \n",
      "  • Some institutions offer “accelerated,” “summer,” or “self-paced” versions of the same course.\n",
      "\n",
      "Bottom line: It may not be “too late,” but you’ll have to move fast. Start by checking the official add/drop deadline in your academic calendar, then contact the registrar and the instructor right away.\n"
     ]
    }
   ],
   "source": [
    "print(response.choices[0].message.content)"
   ]
  }
 ],
 "metadata": {
  "kernelspec": {
   "display_name": "Python 3 (ipykernel)",
   "language": "python",
   "name": "python3"
  },
  "language_info": {
   "codemirror_mode": {
    "name": "ipython",
    "version": 3
   },
   "file_extension": ".py",
   "mimetype": "text/x-python",
   "name": "python",
   "nbconvert_exporter": "python",
   "pygments_lexer": "ipython3",
   "version": "3.12.1"
  }
 },
 "nbformat": 4,
 "nbformat_minor": 5
}
